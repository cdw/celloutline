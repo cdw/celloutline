{
 "cells": [
  {
   "cell_type": "markdown",
   "metadata": {},
   "source": [
    "# Figure 1: Reconstruction error\n",
    "\n",
    "This documents the error that creeps in as a result of our representation of the cell as a spiral or level set or reduced resolution segmentation. We will encode all the cells in our dataset using these methods at differing resolutions and see how well/poorly they fit the original cells.\n",
    "\n",
    "## Standard imports"
   ]
  },
  {
   "cell_type": "code",
   "execution_count": 1,
   "metadata": {
    "collapsed": true
   },
   "outputs": [],
   "source": [
    "# System installed\n",
    "import os\n",
    "import numpy as np\n",
    "import pandas as pd\n",
    "import matplotlib.pyplot as plt\n",
    "%matplotlib inline\n",
    "\n",
    "# System or local\n",
    "import celloutline"
   ]
  },
  {
   "cell_type": "markdown",
   "metadata": {},
   "source": [
    "Set the locations of our cell dataset."
   ]
  },
  {
   "cell_type": "code",
   "execution_count": 2,
   "metadata": {
    "collapsed": true
   },
   "outputs": [],
   "source": [
    "datapath = os.path.join(celloutline.__path__[0], 'data/cell_segs.npz')\n",
    "cell_segs = np.load(datapath)\n",
    "cell_names = cell_segs.keys()"
   ]
  },
  {
   "cell_type": "markdown",
   "metadata": {},
   "source": [
    "## Profiling run time\n",
    "\n",
    "To get a sense of how long things will take to run and thus where to run them, let's profile the encodings."
   ]
  },
  {
   "cell_type": "code",
   "execution_count": 3,
   "metadata": {
    "collapsed": true
   },
   "outputs": [],
   "source": [
    "bvox = celloutline.representation.BinaryVoxel(cell_names[0], cell_segs)"
   ]
  },
  {
   "cell_type": "code",
   "execution_count": 9,
   "metadata": {},
   "outputs": [
    {
     "name": "stdout",
     "output_type": "stream",
     "text": [
      "10 loops, best of 3: 54.1 ms per loop\n"
     ]
    }
   ],
   "source": [
    "%timeit celloutline.conversions.binary_to_trimesh(bvox.voxels)"
   ]
  },
  {
   "cell_type": "code",
   "execution_count": 10,
   "metadata": {},
   "outputs": [
    {
     "name": "stdout",
     "output_type": "stream",
     "text": [
      "1 loop, best of 3: 10.9 s per loop\n"
     ]
    }
   ],
   "source": [
    "%timeit celloutline.conversions.binary_to_spiral(bvox.voxels)"
   ]
  },
  {
   "cell_type": "code",
   "execution_count": 11,
   "metadata": {},
   "outputs": [
    {
     "name": "stdout",
     "output_type": "stream",
     "text": [
      "1 loop, best of 3: 8.75 s per loop\n"
     ]
    }
   ],
   "source": [
    "#Like above but without recomputing spiral\n",
    "spiral = celloutline.geom.UnitSpiral(500)\n",
    "%timeit celloutline.conversions.binary_to_spiral(bvox.voxels, spiral)"
   ]
  },
  {
   "cell_type": "code",
   "execution_count": 12,
   "metadata": {},
   "outputs": [
    {
     "name": "stdout",
     "output_type": "stream",
     "text": [
      "1 loop, best of 3: 420 ms per loop\n"
     ]
    }
   ],
   "source": [
    "%timeit celloutline.conversions.binary_to_spread(bvox.voxels)"
   ]
  },
  {
   "cell_type": "markdown",
   "metadata": {},
   "source": [
    "## Functionalizing \n",
    "So it looks like binary to mesh is fine and so is binary to spread, it is just the spiral conversion that takes some time. Let's create a function to output the errors we want:\n",
    "\n",
    "- marching cube step down 1x\n",
    "- marching cube step down 2x\n",
    "- marching cube step down 3x\n",
    "- spiral with 100 pts\n",
    "- spiral with 200 pts\n",
    "- spiral with 500 pts\n",
    "- spiral with 1000 pts\n",
    "- spiral with 2000 pts\n",
    "- spread\n",
    "\n",
    "First we'll pre-calculate all our unit spirals to save time:"
   ]
  },
  {
   "cell_type": "code",
   "execution_count": 4,
   "metadata": {},
   "outputs": [],
   "source": [
    "# This takes a bit for longer spirals\n",
    "#spirals = {n:celloutline.geom.UnitSpiral(n) for n in [100,200,500,1000,2000]} # for reals\n",
    "spirals = {n:celloutline.geom.UnitSpiral(n) for n in [100,200,500]} # for testing"
   ]
  },
  {
   "cell_type": "code",
   "execution_count": 5,
   "metadata": {},
   "outputs": [],
   "source": [
    "def reconerrors(indict):\n",
    "    \"\"\"Reconstruction errors compared to the marching cubes mesh\n",
    "    of the segmentation. See unpacking below for what indict should have\n",
    "    \"\"\"\n",
    "    ## Unpack the input dict\n",
    "    name = indict['name']\n",
    "    segmentation = indict['segmentation']\n",
    "    unitspirals = indict['spirals']\n",
    "    ## Set up meshes\n",
    "    cube1 = celloutline.conversions.binary_to_trimesh(segmentation, 1)\n",
    "    cube2 = celloutline.conversions.binary_to_trimesh(segmentation, 2)\n",
    "    cube3 = celloutline.conversions.binary_to_trimesh(segmentation, 3)\n",
    "    spirals = {}\n",
    "    for n, spiral in unitspirals.items():\n",
    "        spiral_dict = celloutline.conversions.binary_to_spiral(segmentation, spiral)\n",
    "        spiral_mesh = celloutline.conversions.spiral_to_trimesh(**spiral_dict)\n",
    "        spirals[n] = spiral_mesh\n",
    "    spread = celloutline.conversions.spread_to_trimesh(\n",
    "        celloutline.conversions.binary_to_spread(segmentation), 0)\n",
    "    ## Get mesh errors with type, res, error\n",
    "    err = lambda mesh: celloutline.representation.mesh_error(cube1, mesh)\n",
    "    errors = []\n",
    "    errors.append({'type':'cube', 'res':1, 'error':err(cube1)})\n",
    "    errors.append({'type':'cube', 'res':2, 'error':err(cube2)})\n",
    "    errors.append({'type':'cube', 'res':3, 'error':err(cube3)})\n",
    "    for n,smesh in spirals.items():\n",
    "        errors.append({'type':'spiral', 'res':n, 'error':err(smesh)})\n",
    "    errors.append({'type': 'spread', 'res':0, 'error':err(spread)})\n",
    "    ## Add the cell name to each error dict\n",
    "    for errordict in errors:\n",
    "        errordict['name'] = name\n",
    "    ## Pass the error dict back, ready to be loaded into a dataframe\n",
    "    return errors"
   ]
  },
  {
   "cell_type": "markdown",
   "metadata": {},
   "source": [
    "## Function on test data \n",
    "\n",
    "That is the function for calculating the reconstruction errors we want to show. We need to see how best to run it. First some test data:"
   ]
  },
  {
   "cell_type": "code",
   "execution_count": 6,
   "metadata": {
    "collapsed": true
   },
   "outputs": [],
   "source": [
    "test_dicts = []\n",
    "for name in cell_names[:5]:\n",
    "    test_dicts.append({'name':name,\n",
    "                     'segmentation':cell_segs[name], \n",
    "                     'spirals':spirals})"
   ]
  },
  {
   "cell_type": "code",
   "execution_count": 7,
   "metadata": {
    "collapsed": true
   },
   "outputs": [],
   "source": [
    "test_out = [reconerrors(d) for d in test_dicts]"
   ]
  },
  {
   "cell_type": "markdown",
   "metadata": {
    "collapsed": true
   },
   "source": [
    "## Scaling up with multiprocessing\n",
    "\n",
    "That looks like it will work, now let's do it for all entries. This next few cells are run on a high-core-count server. \n",
    "\n",
    "First create all the cell dictionaries to pass in."
   ]
  },
  {
   "cell_type": "code",
   "execution_count": null,
   "metadata": {
    "collapsed": true
   },
   "outputs": [],
   "source": [
    "cell_dicts = [{'name': name, 'segmentation': cell_segs[name],  \n",
    "               'spirals': spirals}  for name in cell_names]"
   ]
  },
  {
   "cell_type": "markdown",
   "metadata": {},
   "source": [
    "Now the long running step:"
   ]
  },
  {
   "cell_type": "code",
   "execution_count": 80,
   "metadata": {},
   "outputs": [
    {
     "name": "stdout",
     "output_type": "stream",
     "text": [
      "\n"
     ]
    }
   ],
   "source": [
    "import tqdm\n",
    "import multiprocessing as mp\n",
    "cpu_n = mp.cpu_count()\n",
    "pool = mp.Pool(cpu_n-2)\n",
    "\n",
    "error_dicts = []\n",
    "chunk_size = 1\n",
    "with tqdm.tqdm_notebook(total=len(cell_dicts)/cs) as pbar:\n",
    "    for rerr in pool.imap_unordered(reconerrors, cell_dicts, chunk_size):\n",
    "        error_dicts.append(rerr)\n",
    "        pbar.update()"
   ]
  },
  {
   "cell_type": "markdown",
   "metadata": {
    "collapsed": true
   },
   "source": [
    "And save the output to disk for figure creation back on a local laptop"
   ]
  },
  {
   "cell_type": "code",
   "execution_count": 3,
   "metadata": {},
   "outputs": [],
   "source": [
    "out_fn = './figure_1_representation_error.csv'\n",
    "header = True\n",
    "if not os.path.exists(out_fn): #don't overwrite the file if present\n",
    "    for cell in error_dicts:\n",
    "        df = pd.DataFrame(cell)\n",
    "        df.to_csv(out_fn, \n",
    "                  float_format=\"%0.5f\", \n",
    "                  index=False, \n",
    "                  header=header, \n",
    "                  mode='a+')\n",
    "        header=False"
   ]
  },
  {
   "cell_type": "markdown",
   "metadata": {
    "collapsed": true
   },
   "source": [
    "## Plotting\n",
    "\n",
    "Now that we have all the data we want, let's create the figure from it."
   ]
  },
  {
   "cell_type": "code",
   "execution_count": 4,
   "metadata": {},
   "outputs": [
    {
     "name": "stdout",
     "output_type": "stream",
     "text": [
      "(136521, 4)\n"
     ]
    },
    {
     "data": {
      "text/html": [
       "<div>\n",
       "<style>\n",
       "    .dataframe thead tr:only-child th {\n",
       "        text-align: right;\n",
       "    }\n",
       "\n",
       "    .dataframe thead th {\n",
       "        text-align: left;\n",
       "    }\n",
       "\n",
       "    .dataframe tbody tr th {\n",
       "        vertical-align: top;\n",
       "    }\n",
       "</style>\n",
       "<table border=\"1\" class=\"dataframe\">\n",
       "  <thead>\n",
       "    <tr style=\"text-align: right;\">\n",
       "      <th></th>\n",
       "      <th>error</th>\n",
       "      <th>name</th>\n",
       "      <th>res</th>\n",
       "      <th>type</th>\n",
       "    </tr>\n",
       "  </thead>\n",
       "  <tbody>\n",
       "    <tr>\n",
       "      <th>0</th>\n",
       "      <td>1.00000</td>\n",
       "      <td>3500000468_100X_20170124_E07_P15.czi_1.npz</td>\n",
       "      <td>1</td>\n",
       "      <td>cube</td>\n",
       "    </tr>\n",
       "    <tr>\n",
       "      <th>1</th>\n",
       "      <td>0.89536</td>\n",
       "      <td>3500000468_100X_20170124_E07_P15.czi_1.npz</td>\n",
       "      <td>2</td>\n",
       "      <td>cube</td>\n",
       "    </tr>\n",
       "  </tbody>\n",
       "</table>\n",
       "</div>"
      ],
      "text/plain": [
       "     error                                        name  res  type\n",
       "0  1.00000  3500000468_100X_20170124_E07_P15.czi_1.npz    1  cube\n",
       "1  0.89536  3500000468_100X_20170124_E07_P15.czi_1.npz    2  cube"
      ]
     },
     "execution_count": 4,
     "metadata": {},
     "output_type": "execute_result"
    }
   ],
   "source": [
    "df = pd.read_csv(out_fn, names=['error', 'name', 'res', 'type'])\n",
    "print(df.shape)\n",
    "df.head(2)"
   ]
  },
  {
   "cell_type": "code",
   "execution_count": 10,
   "metadata": {},
   "outputs": [
    {
     "data": {
      "text/html": [
       "<div>\n",
       "<style>\n",
       "    .dataframe thead tr:only-child th {\n",
       "        text-align: right;\n",
       "    }\n",
       "\n",
       "    .dataframe thead th {\n",
       "        text-align: left;\n",
       "    }\n",
       "\n",
       "    .dataframe tbody tr th {\n",
       "        vertical-align: top;\n",
       "    }\n",
       "</style>\n",
       "<table border=\"1\" class=\"dataframe\">\n",
       "  <thead>\n",
       "    <tr style=\"text-align: right;\">\n",
       "      <th></th>\n",
       "      <th>error</th>\n",
       "      <th>res</th>\n",
       "    </tr>\n",
       "  </thead>\n",
       "  <tbody>\n",
       "    <tr>\n",
       "      <th>count</th>\n",
       "      <td>136521.000000</td>\n",
       "      <td>136521.000000</td>\n",
       "    </tr>\n",
       "    <tr>\n",
       "      <th>mean</th>\n",
       "      <td>0.887290</td>\n",
       "      <td>422.888889</td>\n",
       "    </tr>\n",
       "    <tr>\n",
       "      <th>std</th>\n",
       "      <td>0.583657</td>\n",
       "      <td>640.358053</td>\n",
       "    </tr>\n",
       "    <tr>\n",
       "      <th>min</th>\n",
       "      <td>-155.594840</td>\n",
       "      <td>0.000000</td>\n",
       "    </tr>\n",
       "    <tr>\n",
       "      <th>25%</th>\n",
       "      <td>0.846340</td>\n",
       "      <td>2.000000</td>\n",
       "    </tr>\n",
       "    <tr>\n",
       "      <th>50%</th>\n",
       "      <td>0.886060</td>\n",
       "      <td>100.000000</td>\n",
       "    </tr>\n",
       "    <tr>\n",
       "      <th>75%</th>\n",
       "      <td>0.925260</td>\n",
       "      <td>500.000000</td>\n",
       "    </tr>\n",
       "    <tr>\n",
       "      <th>max</th>\n",
       "      <td>118.524660</td>\n",
       "      <td>2000.000000</td>\n",
       "    </tr>\n",
       "  </tbody>\n",
       "</table>\n",
       "</div>"
      ],
      "text/plain": [
       "               error            res\n",
       "count  136521.000000  136521.000000\n",
       "mean        0.887290     422.888889\n",
       "std         0.583657     640.358053\n",
       "min      -155.594840       0.000000\n",
       "25%         0.846340       2.000000\n",
       "50%         0.886060     100.000000\n",
       "75%         0.925260     500.000000\n",
       "max       118.524660    2000.000000"
      ]
     },
     "execution_count": 10,
     "metadata": {},
     "output_type": "execute_result"
    }
   ],
   "source": [
    "df.describe()"
   ]
  },
  {
   "cell_type": "markdown",
   "metadata": {},
   "source": [
    "We throw out the wacky errors, those above or below the 99.9th percentile or below the .1th percentile. "
   ]
  },
  {
   "cell_type": "code",
   "execution_count": 21,
   "metadata": {},
   "outputs": [
    {
     "name": "stdout",
     "output_type": "stream",
     "text": [
      "Cutoffs are below 0.55 or above 1.28\n"
     ]
    }
   ],
   "source": [
    "lowcutoff, highcutoff = df.error.quantile(.001), df.error.quantile(.999)\n",
    "print(\"Cutoffs are below %0.2f or above %0.2f\"%(lowcutoff, highcutoff))\n",
    "\n",
    "df = df.where(np.logical_and(df.error>lowcutoff, df.error<highcutoff))"
   ]
  },
  {
   "cell_type": "code",
   "execution_count": 27,
   "metadata": {},
   "outputs": [
    {
     "data": {
      "image/png": "[encoded data removed]",
      "text/plain": [
       "<matplotlib.figure.Figure at 0x120905160>"
      ]
     },
     "metadata": {},
     "output_type": "display_data"
    }
   ],
   "source": [
    "import seaborn as sns\n",
    "\n",
    "# Figure size and relative panel widths\n",
    "fig, axes = plt.subplots(1,3, figsize=(10,3), \n",
    "                         sharey=True, \n",
    "                        gridspec_kw={'width_ratios':[1,1,.2]})\n",
    "\n",
    "# For marching cube representation\n",
    "sns.violinplot(x='res', y='error',\n",
    "            data=df[df.type=='cube'],\n",
    "            ax=axes[0])\n",
    "axes[0].set_title(\"Marching cubes\")\n",
    "axes[0].set_xlabel(\"Downsampling fold\")\n",
    "axes[0].set_ylabel(\"Representation error\")\n",
    "\n",
    "# For spiral representation\n",
    "sns.violinplot(x='res', y='error',\n",
    "            data=df[df.type=='spiral'],\n",
    "            ax=axes[1])\n",
    "axes[1].set_title(\"Spiral\")\n",
    "axes[1].set_xlabel(\"Points in spiral\")\n",
    "axes[1].set_ylabel(\" \")\n",
    "\n",
    "# For levelset representation\n",
    "sns.violinplot(x='res', y='error',\n",
    "            data=df[df.type=='spread'],\n",
    "            ax=axes[2])\n",
    "axes[2].set_title(\"Levelset\")\n",
    "axes[2].set_xlabel(\"Threshold at zero\")\n",
    "axes[2].set_xticklabels([\" \"])\n",
    "axes[2].set_ylabel(\" \")\n",
    "\n",
    "plt.tight_layout()\n",
    "fig.savefig('figure_1_representation_error.pdf')"
   ]
  },
  {
   "cell_type": "markdown",
   "metadata": {
    "collapsed": true
   },
   "source": [
    "I'm quite happy with that. "
   ]
  },
  {
   "cell_type": "code",
   "execution_count": null,
   "metadata": {
    "collapsed": true
   },
   "outputs": [],
   "source": []
  }
 ],
 "metadata": {
  "kernelspec": {
   "display_name": "Python 3",
   "language": "python",
   "name": "python3"
  },
  "language_info": {
   "codemirror_mode": {
    "name": "ipython",
    "version": 3
   },
   "file_extension": ".py",
   "mimetype": "text/x-python",
   "name": "python",
   "nbconvert_exporter": "python",
   "pygments_lexer": "ipython3",
   "version": "3.6.1"
  }
 },
 "nbformat": 4,
 "nbformat_minor": 2
}
